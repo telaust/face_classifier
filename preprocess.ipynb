{
 "cells": [
  {
   "cell_type": "code",
   "execution_count": null,
   "metadata": {},
   "outputs": [],
   "source": [
    "\"\"\"\n",
    "Вы можете заметить, что ячейки здесь не выполнены, возникает ощущение, что я не прогонял этот код\n",
    "Но это, конечно же, неправда\n",
    "Так получилось, потому что изначально было два разных модуля: первый создавал директории, второй \"раскладывал\" \n",
    "примеры по этим директориям\n",
    "Потом я подумал, что это выглядит не логично, и объединил их в единый модуль\n",
    "Так как все папки уже были созданы, то код здесь не выполнен. \n",
    "\"\"\""
   ]
  },
  {
   "cell_type": "code",
   "execution_count": null,
   "metadata": {},
   "outputs": [],
   "source": [
    "import os\n",
    "from pathlib import Path\n",
    "import numpy as np\n",
    "import glob\n",
    "import shutil\n",
    "from PIL import Image\n",
    "\n",
    "\n",
    "import torch\n",
    "from torch.utils.data import DataLoader\n",
    "import torchvision\n",
    "import torch.nn.functional as F\n",
    "import torch.optim as optim\n",
    "import torch.nn as nn\n",
    "import matplotlib.pyplot as plt\n",
    "import torchvision.transforms as T\n",
    "from torchvision.datasets import ImageFolder"
   ]
  },
  {
   "cell_type": "code",
   "execution_count": null,
   "metadata": {},
   "outputs": [],
   "source": [
    "# какие классы?\n",
    "classes = [\"face\", \"no_face\"]\n",
    "# какие наборы?\n",
    "datasets = [\"train\", \"test\"]"
   ]
  },
  {
   "cell_type": "code",
   "execution_count": null,
   "metadata": {},
   "outputs": [],
   "source": [
    "DATA_DIR=Path(\"images\")\n",
    "\n",
    "def make_dirs(classes, datasets):\n",
    "    for ds in datasets:\n",
    "        for cls in classes:\n",
    "            (DATA_DIR / ds / cls).mkdir(parents=True, exist_ok=True)"
   ]
  },
  {
   "cell_type": "code",
   "execution_count": null,
   "metadata": {},
   "outputs": [],
   "source": [
    "make_dirs(classes, datasets)"
   ]
  },
  {
   "cell_type": "code",
   "execution_count": null,
   "metadata": {},
   "outputs": [],
   "source": [
    "# перенос изображений и их переимнование\n",
    "def move_just_images():\n",
    "    os.mkdir(\"all_images\")\n",
    "    img_cntr = 0\n",
    "    for png in glob.iglob(os.path.join(\"ThermalFaceDatabase\", \"*.png\")):\n",
    "        img_cntr +=1 \n",
    "        shutil.copy(png, \"all_images\")\n",
    "        \n",
    "    return img_cntr"
   ]
  },
  {
   "cell_type": "code",
   "execution_count": null,
   "metadata": {},
   "outputs": [],
   "source": [
    "# перенести все png-изображения в одну папку\n",
    "n_images = move_just_images()"
   ]
  },
  {
   "cell_type": "code",
   "execution_count": null,
   "metadata": {},
   "outputs": [],
   "source": [
    "# создание папки для pts-файлов\n",
    "def make_pts():\n",
    "    if os.path.exists('pts'):\n",
    "        return \"path is already exists\"\n",
    "    os.makedirs(\"pts\")\n",
    "\n",
    "    for (idx, pts) in enumerate(sorted(glob.iglob(os.path.join(\"ThermalFaceDatabase\", \"*.pts\")))):\n",
    "        shutil.copy(pts, f\"pts/{idx}.jpg_lfb.pts\")\n",
    "\n"
   ]
  },
  {
   "cell_type": "code",
   "execution_count": null,
   "metadata": {},
   "outputs": [],
   "source": [
    "make_pts()"
   ]
  },
  {
   "cell_type": "code",
   "execution_count": 1,
   "metadata": {},
   "outputs": [],
   "source": [
    "# DEPRECATED\n",
    "\n",
    "# создание 2935 файлов, в каждом лежит png и соотв ему pts\n",
    "\n",
    "# для каждой двойки файлов (png, pts) создать свою директориую в 'files' с соотв индексом\n",
    "# for (idx, file) in enumerate(sorted(os.listdir(\"ThermalFaceDatabase\"))):\n",
    "#     if idx % 3 == 0:\n",
    "#         os.makedirs(f\"files/{idx//3}\")\n",
    "#     else:\n",
    "#         file_idx = idx // 3\n",
    "#         shutil.copy(f\"ThermalFaceDatabase/{file}\", f\"files/{file_idx}/{file_idx}.{file.split('.',1)[1]}\")"
   ]
  },
  {
   "cell_type": "code",
   "execution_count": null,
   "metadata": {},
   "outputs": [],
   "source": [
    "# ф-ия для парсинга pts файлов\n",
    "# вернет первые координаты (два числа) рта\n",
    "def take_coords_from_pts(file_path):\n",
    "    with open(file_path) as pts:\n",
    "        arr_of_coords = pts.readlines()[3:-1]\n",
    "        coords = (float(arr_of_coords[0].split()[0]),\n",
    "                  float(arr_of_coords[0].split()[1]))\n",
    "        return coords"
   ]
  },
  {
   "cell_type": "code",
   "execution_count": null,
   "metadata": {},
   "outputs": [],
   "source": [
    "# 4 разных ф-ий для обрезки фото для класса no_face\n",
    "def crop_noface_1(img, points, win_size=(300, 300)):\n",
    "    x = points[0]\n",
    "    y = points[1]\n",
    "    new_img = img.crop((x-win_size[0]/2, y+win_size[0]/2, x+win_size[1]/2, y+3/2*win_size[1]))\n",
    "    \n",
    "    return new_img\n",
    "\n",
    "def crop_noface_2(img, points, win_size=(300, 300)):\n",
    "    x = points[0]\n",
    "    y = points[1]\n",
    "    new_img = img.crop((x-3/2*win_size[0], y+win_size[0]/2, x-win_size[1]/2, y+3/2*win_size[1]))\n",
    "    \n",
    "    return new_img\n",
    "\n",
    "def crop_noface_3(img, points, win_size=(300, 300)):\n",
    "    x = points[0]\n",
    "    y = points[1]\n",
    "    new_img = img.crop((x-win_size[0]*2, y+win_size[0]/2, x-win_size[1], y+3/2*win_size[1]))\n",
    "    \n",
    "    return new_img\n",
    "\n",
    "def crop_noface_4(img, points, win_size=(300, 300)):\n",
    "#     x = points[0]\n",
    "#     y = points[1]\n",
    "#     new_img = img.crop((x+win_size[0]/2, y+win_size[0]/2, x+win_size[1], y+win_size[1]))\n",
    "    x = points[0]\n",
    "    y = points[1]\n",
    "    new_img = img.crop((x-win_size[0], y, x-win_size[1]/2, y+win_size[1]))\n",
    "    \n",
    "    return new_img"
   ]
  },
  {
   "cell_type": "code",
   "execution_count": null,
   "metadata": {},
   "outputs": [],
   "source": [
    "# перенести изобрадения в тренировочный класс \"нелицо\"\n",
    "def move_to_train_noface(size):\n",
    "\n",
    "    # размеры окон, из к-ых получатся изображения без лица\n",
    "    available_win_sizes = [200, 300]\n",
    "    # для каждого изображения\n",
    "    for (idx, png) in enumerate(sorted(glob.glob(os.path.join(\"ThermalFaceDatabase\", \"*.png\")))[:size]):\n",
    "        # откроем его\n",
    "        img = Image.open(png)\n",
    "        # возьмем координаты рта из соотв файла pts\n",
    "        mouth_points = take_coords_from_pts(f\"pts/{idx}.jpg_lfb.pts\")\n",
    "        # для каждого размера окна\n",
    "        for win_size in available_win_sizes:\n",
    "            # обрезаем его 1\n",
    "            cropped_img1 = crop_noface_1(img, mouth_points, win_size=(win_size, win_size))\n",
    "            # сохраням в соотв директории\n",
    "            cropped_img1.save(f\"images/train/no_face/{idx}_{win_size}_0.png\")\n",
    "            \n",
    "            # обрезаем его 2\n",
    "            cropped_img2 = crop_noface_2(img, mouth_points, win_size=(win_size, win_size))\n",
    "            # сохраням в соотв директории\n",
    "            cropped_img2.save(f\"images/train/no_face/{idx}_{win_size}_1.png\")\n",
    "            \n",
    "            # обрезаем его 3\n",
    "            cropped_img3 = crop_noface_3(img, mouth_points, win_size=(win_size, win_size))\n",
    "            # сохраням в соотв директории\n",
    "            cropped_img3.save(f\"images/train/no_face/{idx}_{win_size}_2.png\")\n",
    "            \n",
    "            # обрезаем его 4\n",
    "            cropped_img4 = crop_noface_4(img, mouth_points, win_size=(win_size, win_size))\n",
    "            # сохраням в соотв директории\n",
    "            cropped_img4.save(f\"images/train/no_face/{idx}_{win_size}_3.png\")"
   ]
  },
  {
   "cell_type": "code",
   "execution_count": null,
   "metadata": {},
   "outputs": [],
   "source": [
    "# перенести в тестовый класс \"нелицо\"\n",
    "def move_to_test_noface(size):\n",
    "    # размеры окон, из к-ых получатся изображения с лицом\n",
    "    available_win_sizes = [200, 300]\n",
    "    # для каждого изображения\n",
    "    for (idx, png) in enumerate(sorted(glob.glob(os.path.join(\"ThermalFaceDatabase\", \"*.png\")))[size:]):\n",
    "\n",
    "        # откроем его\n",
    "        img = Image.open(png)\n",
    "        # возьмем координаты рта из соотв файла pts\n",
    "        mouth_points = take_coords_from_pts(f\"pts/{idx+size}.jpg_lfb.pts\")\n",
    "        # для каждого размера окна\n",
    "        for win_size in available_win_sizes:\n",
    "            # обрезаем его 1\n",
    "            cropped_img1 = crop_noface_1(img, mouth_points, win_size=(win_size, win_size))\n",
    "            # сохраням в соотв директории\n",
    "            cropped_img1.save(f\"images/test/no_face/{idx}_{win_size}_0.png\")\n",
    "            \n",
    "            # обрезаем его 2\n",
    "            cropped_img2 = crop_noface_2(img, mouth_points, win_size=(win_size, win_size))\n",
    "            # сохраням в соотв директории\n",
    "            cropped_img2.save(f\"images/test/no_face/{idx}_{win_size}_1.png\")\n",
    "            \n",
    "            # обрезаем его 3\n",
    "            cropped_img3 = crop_noface_3(img, mouth_points, win_size=(win_size, win_size))\n",
    "            # сохраням в соотв директории\n",
    "            cropped_img3.save(f\"images/test/no_face/{idx}_{win_size}_2.png\")\n",
    "            \n",
    "            # обрезаем его 4\n",
    "            cropped_img4 = crop_noface_4(img, mouth_points, win_size=(win_size, win_size))\n",
    "            # сохраням в соотв директории\n",
    "            cropped_img4.save(f\"images/test/no_face/{idx}_{win_size}_3.png\")"
   ]
  },
  {
   "cell_type": "code",
   "execution_count": null,
   "metadata": {},
   "outputs": [],
   "source": [
    "# перенести в тестовый класс \"лицо\"\n",
    "def move_to_test_face(size):\n",
    "    # размеры окон, из к-ых получатся изображения с лицом\n",
    "    available_win_sizes = [100, 200, 300, 500]\n",
    "    # для каждого изображения\n",
    "    for (idx, png) in enumerate(sorted(glob.glob(os.path.join(\"ThermalFaceDatabase\", \"*.png\")))[size:]):\n",
    "        png = Image.open(png)\n",
    "        # возьмем координаты рта из соотв файла pts\n",
    "        mouth_points = take_coords_from_pts(f\"pts/{idx+size}.jpg_lfb.pts\")\n",
    "        # для каждого размера окна\n",
    "        for win_size in available_win_sizes:\n",
    "            # обрезаем его на уровне рта, получая новое изображение\n",
    "            cropped_img1 = crop_image1(png, mouth_points, window_size=(win_size, win_size))\n",
    "            # сохраням в соотв директории\n",
    "            cropped_img1.save(f\"images/test/face/{idx}_{win_size}_0.png\")\n",
    "            # обрезаем его выше рта, получая новое изображение\n",
    "            cropped_img_up = crop_image_up(png, mouth_points, window_size=(win_size, win_size))\n",
    "            # сохраням в соотв директории\n",
    "            cropped_img_up.save(f\"images/test/face/{idx}_{win_size}_1.png\")"
   ]
  },
  {
   "cell_type": "code",
   "execution_count": null,
   "metadata": {},
   "outputs": [],
   "source": [
    "# обрезка фото с центром на уровне рта, \n",
    "# points - координаты рта\n",
    "# window_size - размер окна\n",
    "# вернет новое обрезанное фото\n",
    "def crop_image1(img, points, window_size=(300, 300)):\n",
    "    x = points[0]\n",
    "    y = points[1]\n",
    "    new_img = img.crop((x-window_size[0]/2, y-window_size[0]/2, \n",
    "                        x+window_size[1]/2, y+window_size[1]/2))\n",
    "\n",
    "    return new_img\n",
    "\n",
    "# обрезка фото с центром выше рта, \n",
    "# mouth_points - координаты рта\n",
    "# window_size - размер окна\n",
    "# вернет новое обрезанное фото\n",
    "def crop_image_up(img, mouth_points, window_size=(300, 300)):\n",
    "    x = mouth_points[0]\n",
    "    y = mouth_points[1]\n",
    "    new_img = img.crop((x-window_size[0]/2, y-window_size[0], \n",
    "                        x+window_size[1]/2, y))\n",
    "\n",
    "    return new_img"
   ]
  },
  {
   "cell_type": "code",
   "execution_count": null,
   "metadata": {},
   "outputs": [],
   "source": [
    "# Заняло: 2 минуты\n",
    "%%time\n",
    "TRAIN_SIZE = int(0.8 * 2935)\n",
    "\n",
    "move_to_train_noface(TRAIN_SIZE)"
   ]
  },
  {
   "cell_type": "code",
   "execution_count": null,
   "metadata": {},
   "outputs": [],
   "source": [
    "# Заняло: 42 сек\n",
    "%%time\n",
    "\n",
    "move_to_test_noface(TRAIN_SIZE)"
   ]
  },
  {
   "cell_type": "code",
   "execution_count": null,
   "metadata": {},
   "outputs": [],
   "source": [
    "# Заняло: 2 минуты\n",
    "%%time\n",
    "# обрезать и сохранить изображения в images/test/face\n",
    "move_to_test_face(TRAIN_SIZE)"
   ]
  },
  {
   "cell_type": "code",
   "execution_count": null,
   "metadata": {},
   "outputs": [],
   "source": []
  }
 ],
 "metadata": {
  "kernelspec": {
   "display_name": "Python 3",
   "language": "python",
   "name": "python3"
  },
  "language_info": {
   "codemirror_mode": {
    "name": "ipython",
    "version": 3
   },
   "file_extension": ".py",
   "mimetype": "text/x-python",
   "name": "python",
   "nbconvert_exporter": "python",
   "pygments_lexer": "ipython3",
   "version": "3.7.3"
  }
 },
 "nbformat": 4,
 "nbformat_minor": 4
}
