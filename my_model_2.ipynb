{
 "cells": [
  {
   "cell_type": "code",
   "execution_count": 4,
   "metadata": {},
   "outputs": [],
   "source": [
    "import torch\n",
    "import torch.nn as nn\n",
    "import torch.nn.functional as F\n",
    "import numpy as np\n",
    "import matplotlib.pyplot as plt\n",
    "from torchvision.transforms import transforms as T\n",
    "import torchvision\n",
    "import torch.optim as optim\n",
    "from torchvision.datasets import ImageFolder\n",
    "from torch.utils.data import DataLoader\n",
    "\n",
    "import torchvision.models as models\n",
    "from PIL import Image"
   ]
  },
  {
   "cell_type": "code",
   "execution_count": 23,
   "metadata": {},
   "outputs": [
    {
     "data": {
      "text/plain": [
       "<torch._C.Generator at 0x111412db0>"
      ]
     },
     "execution_count": 23,
     "metadata": {},
     "output_type": "execute_result"
    }
   ],
   "source": [
    "np.random.seed(13)\n",
    "# поскольку pytorch опирается на numpy, то верхней строки достаточно\n",
    "torch.manual_seed(13)"
   ]
  },
  {
   "cell_type": "code",
   "execution_count": 5,
   "metadata": {},
   "outputs": [],
   "source": [
    "IMG_DIM = 32\n",
    "BATCH_SIZE = 128\n",
    "N_EPOCHS = 3\n",
    "\n",
    "# такие параметры нормализации требуются для transfer learning,\n",
    "# но мне кажется, что и для обычных моделей подойдет\n",
    "mean_nums = [0.485, 0.456, 0.406]\n",
    "std_nums = [0.229, 0.224, 0.225]\n",
    "\n",
    "img_transforms_train = T.Compose([\n",
    "    T.Resize((IMG_DIM, IMG_DIM)),\n",
    "    T.RandomHorizontalFlip(),  # аугментация\n",
    "    T.ToTensor(),\n",
    "    T.Normalize(mean_nums, std_nums)  \n",
    "])\n",
    "\n",
    "img_transforms_test = T.Compose([\n",
    "    T.Resize((IMG_DIM, IMG_DIM)),\n",
    "    T.RandomHorizontalFlip(),\n",
    "    T.ToTensor(),\n",
    "    T.Normalize(mean_nums, std_nums)\n",
    "])\n",
    "\n",
    "train_dataset = ImageFolder('./images/train/', img_transforms_train)\n",
    "test_dataset = ImageFolder('./images/test/', img_transforms_test) \n",
    "\n",
    "# лучше размешать тренировочную выборку (shuffle=True), \n",
    "# чтобы не было корреляций между примерами\n",
    "train_loader = DataLoader(train_dataset, BATCH_SIZE, shuffle=True, num_workers=0)\n",
    "test_loader = DataLoader(test_dataset, BATCH_SIZE, shuffle=False, num_workers=0)"
   ]
  },
  {
   "cell_type": "code",
   "execution_count": 24,
   "metadata": {},
   "outputs": [
    {
     "name": "stdout",
     "output_type": "stream",
     "text": [
      "Shape of image is (128, 3, 32, 32)\n"
     ]
    }
   ],
   "source": [
    "images, labels = next(iter(train_loader))\n",
    "print(f\"Shape of image is ({images.shape[0]}, {images.shape[1]}, {images.shape[2]}, {images.shape[3]})\")"
   ]
  },
  {
   "cell_type": "code",
   "execution_count": 6,
   "metadata": {},
   "outputs": [],
   "source": [
    "losses =[]\n",
    "\n",
    "# напишу ф-ию для тренировки заранее, так как она не зависит от реализации модели\n",
    "def train(model, optimizer, loss_fn, train_loader, n_epochs=10, device='cpu'):\n",
    "    # для каждой эпохи\n",
    "    for epoch in range(n_epochs):\n",
    "        run_loss = 0\n",
    "        # для каждого батча\n",
    "        for idx, data in enumerate(train_loader, 0):\n",
    "            inputs, labels = data\n",
    "            # очищаем вычислительный граф\n",
    "            optimizer.zero_grad()\n",
    "            # результат модели\n",
    "            outputs = model(inputs)\n",
    "            # считаем потерю\n",
    "            loss = loss_fn(outputs, labels)\n",
    "            # обратное распространение ошибки\n",
    "            loss.backward()\n",
    "            optimizer.step()\n",
    "            \n",
    "            run_loss += loss.item()\n",
    "            # трекаем потерю\n",
    "            losses.append(loss.item())\n",
    "            # вывод\n",
    "            if idx % 100 == 0:\n",
    "                print(f\"ep #{epoch}, mini-batch #{idx}, loss={run_loss/100}\")\n",
    "                run_loss = 0"
   ]
  },
  {
   "cell_type": "code",
   "execution_count": 7,
   "metadata": {},
   "outputs": [],
   "source": [
    "# инициализация весов\n",
    "def weight_init(model):\n",
    "    classname = model.__class__.__name__\n",
    "    if classname.find('Conv') != -1:\n",
    "        nn.init.kaiming_uniform(model.weight)"
   ]
  },
  {
   "cell_type": "code",
   "execution_count": 8,
   "metadata": {},
   "outputs": [],
   "source": [
    "class CNN(nn.Module):\n",
    "    def __init__(self):\n",
    "        super(CNN, self).__init__()\n",
    "        # свертка\n",
    "        self.conv1 = nn.Conv2d(3, 6, 5)\n",
    "        # batch normalization \n",
    "        self.bn1 = nn.BatchNorm2d(6)\n",
    "        # pooling (субдискретизация)\n",
    "        self.pool = nn.MaxPool2d(2, 2)\n",
    "        self.conv2 = nn.Conv2d(6, 16, 5)\n",
    "        self.bn2 = nn.BatchNorm2d(16)\n",
    "        \n",
    "        # dropout with probability = 0.5\n",
    "        self.dropout1 = nn.Dropout(p=0.5)\n",
    "        \n",
    "        # dropout with probability = 0.4 - в данном случае не используется\n",
    "        self.dropout2 = nn.Dropout(p=0.4)\n",
    "        # линейные (аффинные) отображения\n",
    "        self.fc1 = nn.Linear(in_features=400, out_features=120)  \n",
    "        self.fc2 = nn.Linear(in_features=120, out_features=84)\n",
    "        self.fc3 = nn.Linear(in_features=84, out_features=42)\n",
    " \n",
    "        self.fc4 = nn.Linear(in_features=42, out_features=2)\n",
    "\n",
    "    def forward(self, x):\n",
    "#         nn.init.kaiming_uniform_(self.conv1.weight)\n",
    "        \n",
    "        x = self.pool(F.relu(self.bn1(self.conv1(x))))\n",
    "        x = self.pool(F.relu(self.bn2(self.conv2(x))))       \n",
    "        \n",
    "        x = x.view(-1, 400)  # reshape\n",
    "        \n",
    "        x = F.relu(self.fc1(x))\n",
    "        x = self.dropout1(F.relu((self.fc2(x))))\n",
    "        x = F.relu((self.fc3(x)))\n",
    "        x = self.fc4(x)\n",
    "        \n",
    "        return x"
   ]
  },
  {
   "cell_type": "code",
   "execution_count": 9,
   "metadata": {},
   "outputs": [
    {
     "name": "stderr",
     "output_type": "stream",
     "text": [
      "/Library/Frameworks/Python.framework/Versions/3.7/lib/python3.7/site-packages/ipykernel_launcher.py:4: UserWarning: nn.init.kaiming_uniform is now deprecated in favor of nn.init.kaiming_uniform_.\n",
      "  after removing the cwd from sys.path.\n"
     ]
    },
    {
     "data": {
      "text/plain": [
       "Net(\n",
       "  (conv1): Conv2d(3, 6, kernel_size=(5, 5), stride=(1, 1))\n",
       "  (bn1): BatchNorm2d(6, eps=1e-05, momentum=0.1, affine=True, track_running_stats=True)\n",
       "  (pool): MaxPool2d(kernel_size=2, stride=2, padding=0, dilation=1, ceil_mode=False)\n",
       "  (conv2): Conv2d(6, 16, kernel_size=(5, 5), stride=(1, 1))\n",
       "  (bn2): BatchNorm2d(16, eps=1e-05, momentum=0.1, affine=True, track_running_stats=True)\n",
       "  (dropout1): Dropout(p=0.5, inplace=False)\n",
       "  (dropout2): Dropout(p=0.4, inplace=False)\n",
       "  (fc1): Linear(in_features=400, out_features=120, bias=True)\n",
       "  (fc2): Linear(in_features=120, out_features=84, bias=True)\n",
       "  (fc3): Linear(in_features=84, out_features=42, bias=True)\n",
       "  (fc4): Linear(in_features=42, out_features=2, bias=True)\n",
       ")"
      ]
     },
     "execution_count": 9,
     "metadata": {},
     "output_type": "execute_result"
    }
   ],
   "source": [
    "net = CNN()\n",
    "net.apply(weight_init)"
   ]
  },
  {
   "cell_type": "code",
   "execution_count": 10,
   "metadata": {},
   "outputs": [],
   "source": [
    "criterion = nn.CrossEntropyLoss()\n",
    "optimizer = optim.Adam(net.parameters(), 1e-2)"
   ]
  },
  {
   "cell_type": "code",
   "execution_count": 11,
   "metadata": {},
   "outputs": [
    {
     "name": "stdout",
     "output_type": "stream",
     "text": [
      "ep #0, mini-batch #0, loss=0.006947831511497498\n",
      "ep #0, mini-batch #100, loss=0.14631417410448194\n",
      "ep #0, mini-batch #200, loss=0.06768902323208749\n",
      "ep #1, mini-batch #0, loss=0.0006530183553695679\n",
      "ep #1, mini-batch #100, loss=0.04445805149618536\n",
      "ep #1, mini-batch #200, loss=0.04332210837164894\n",
      "ep #2, mini-batch #0, loss=0.0001572076976299286\n",
      "ep #2, mini-batch #100, loss=0.03326027519535273\n",
      "ep #2, mini-batch #200, loss=0.03429325010627508\n",
      "CPU times: user 10min 43s, sys: 45.6 s, total: 11min 29s\n",
      "Wall time: 10min 17s\n"
     ]
    }
   ],
   "source": [
    "%%time\n",
    "train(net, optimizer, criterion, train_loader, n_epochs=N_EPOCHS)"
   ]
  },
  {
   "cell_type": "code",
   "execution_count": 13,
   "metadata": {},
   "outputs": [],
   "source": [
    "def plot_loss(losses, N_EPOCHS, BATCH_SIZE):\n",
    "    plt.plot(losses)\n",
    "    plt.title(f\"Loss history for {N_EPOCHS} epochs, train set, batch size = {BATCH_SIZE}\")\n",
    "    plt.xlabel(f\"number of iterations over {N_EPOCHS} epochs\")\n",
    "    plt.ylabel(\"loss\")\n",
    "    plt.grid(True)\n",
    "    plt.show()"
   ]
  },
  {
   "cell_type": "code",
   "execution_count": 14,
   "metadata": {},
   "outputs": [
    {
     "data": {
      "image/png": "[encoded data removed]",
      "text/plain": [
       "<Figure size 432x288 with 1 Axes>"
      ]
     },
     "metadata": {
      "needs_background": "light"
     },
     "output_type": "display_data"
    }
   ],
   "source": [
    "plot_loss(losses, N_EPOCHS, BATCH_SIZE)"
   ]
  },
  {
   "cell_type": "code",
   "execution_count": 19,
   "metadata": {},
   "outputs": [],
   "source": [
    "def test(model, test_loader):\n",
    "    # переключаем модель в режим eval\n",
    "    model.eval()\n",
    "    # не распространяем градиент по сети\n",
    "    with torch.no_grad():\n",
    "        # это для подсчета точности\n",
    "        correct = 0\n",
    "        total = 0\n",
    "    \n",
    "        for (inputs, targets) in test_loader:\n",
    "            outputs = model(inputs)\n",
    "            # берем максимальную вероятность по первой оси\n",
    "            _, predicted = torch.max(outputs.data, 1)\n",
    "            total +=  targets.size(0)\n",
    "        \n",
    "            correct += (predicted == targets).sum().item()\n",
    "        # какая точность?    \n",
    "        print(f\"test accuracy: {100 * correct / total}\")"
   ]
  },
  {
   "cell_type": "code",
   "execution_count": 20,
   "metadata": {},
   "outputs": [
    {
     "name": "stdout",
     "output_type": "stream",
     "text": [
      "test accuracy: 99.23339011925043\n"
     ]
    }
   ],
   "source": [
    "test(net, test_loader)"
   ]
  },
  {
   "cell_type": "code",
   "execution_count": null,
   "metadata": {},
   "outputs": [],
   "source": []
  }
 ],
 "metadata": {
  "kernelspec": {
   "display_name": "Python 3",
   "language": "python",
   "name": "python3"
  },
  "language_info": {
   "codemirror_mode": {
    "name": "ipython",
    "version": 3
   },
   "file_extension": ".py",
   "mimetype": "text/x-python",
   "name": "python",
   "nbconvert_exporter": "python",
   "pygments_lexer": "ipython3",
   "version": "3.7.3"
  }
 },
 "nbformat": 4,
 "nbformat_minor": 4
}
